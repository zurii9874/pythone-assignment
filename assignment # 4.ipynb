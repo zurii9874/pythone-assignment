{
 "cells": [
  {
   "cell_type": "code",
   "execution_count": 3,
   "metadata": {},
   "outputs": [
    {
     "name": "stdout",
     "output_type": "stream",
     "text": [
      "first_name : zuraiz\n",
      "last_name : butt\n",
      "age : 20\n",
      "city : karachi\n",
      "\n",
      "Added new key with value in dictionary from update function\n",
      "-----------------------------------------\n",
      "first_name : zuraiz\n",
      "last_name : butt\n",
      "age : 20\n",
      "city : karachi\n",
      "qualification : intermedaite\n",
      "\n",
      "Updating the value of qualification key in dictionary\n",
      "-----------------------------------------\n",
      "\n",
      "Currently the value of qualification is intermedaite\n",
      "\n",
      "\t HERE IS THE UPDATED DICTIONARY WITH UPDATED VALUES OF QUALIFICATION.\n",
      "\n",
      "first_name : zuraiz\n",
      "last_name : butt\n",
      "age : 20\n",
      "city : karachi\n",
      "qualification : Under Graduation\n",
      "\n",
      "\t DELETED THE KEY OF QUALIFICATION AND BELOW MENTIONED\n",
      "\n",
      "first_name : zuraiz\n",
      "last_name : butt\n",
      "age : 20\n",
      "city : karachi\n"
     ]
    }
   ],
   "source": [
    "# Question 1\n",
    "\n",
    "persons ={\n",
    "    \n",
    "    \"first_name\":\"zuraiz\",\n",
    "    \"last_name\":\"butt\",\n",
    "    \"age\":\"20\",\n",
    "    \"city\":\"karachi\"\n",
    "}\n",
    "\n",
    "def print_dic_values_and_key(dicti_name):\n",
    "    for keys,values in dicti_name.items():\n",
    "        print(keys + \" : \" +values) \n",
    "print_dic_values_and_key(persons)  \n",
    "print(\"\\nAdded new key with value in dictionary from update function\\n-----------------------------------------\")\n",
    "persons.update({\"qualification\":\"intermedaite\"})\n",
    "print_dic_values_and_key(persons) \n",
    "print(\"\\nUpdating the value of qualification key in dictionary\\n-----------------------------------------\\n\")\n",
    "print(\"Currently the value of qualification is \"+  persons['qualification'])\n",
    "persons['qualification'] = \"Under Graduation\"\n",
    "print(\"\\n\\t HERE IS THE UPDATED DICTIONARY WITH UPDATED VALUES OF QUALIFICATION.\\n\")\n",
    "print_dic_values_and_key(persons) \n",
    "del persons['qualification']\n",
    "\n",
    "print(\"\\n\\t DELETED THE KEY OF QUALIFICATION AND BELOW MENTIONED\\n\")\n",
    "\n",
    "print_dic_values_and_key(persons)\n"
   ]
  },
  {
   "cell_type": "code",
   "execution_count": 8,
   "metadata": {},
   "outputs": [
    {
     "name": "stdout",
     "output_type": "stream",
     "text": [
      "Currently we have 3 cities database which is below mentioned \n",
      "\n",
      "karachi\n",
      "islamabad\n",
      "kashmir\n",
      "\n",
      "Enter above mentioned city name to fetch data from  islamabad\n",
      "islamabad : {'country': 'Pakistan', 'population': '10.95 million', 'fact': 'It is the capital of Pakiatan'}\n"
     ]
    }
   ],
   "source": [
    "# Question 2\n",
    "cities = {\n",
    "    \"karachi\": {\n",
    "        \"country\":\"Pakistan\",\n",
    "        \"population\": \"15.74 million\",\n",
    "        \"fact\": \"It was the capital of Pakistan\",\n",
    "        },\n",
    "    \n",
    "    \"islamabad\": {\n",
    "        \"country\":\"Pakistan\",\n",
    "        \"population\": \"10.95 million\",\n",
    "        \"fact\": \"It is the capital of Pakiatan\",\n",
    "        },\n",
    "    \n",
    "    \"kashmir\": {\n",
    "        \"country\":\"Pakistan\",\n",
    "        \"population\": \"4.05 million\",\n",
    "        \"fact\": \"It is the most beautiful place in Pakistan\",\n",
    "        }\n",
    "}\n",
    "print(\"Currently we have 3 cities database which is below mentioned \\n\")\n",
    "for cities_name in cities.keys():\n",
    "    print(cities_name)\n",
    "city =input(\"\\nEnter above mentioned city name to fetch data from  \")\n",
    "flag = False\n",
    "for city_key,city_val in cities.items():\n",
    "    if city_key == city:\n",
    "        flag = True\n",
    "        break\n",
    "if(flag):\n",
    "    print(str(city_key) + \" : \" + str(city_val) )\n",
    "else:\n",
    "    print(\"Right Now we dont have that country.\")"
   ]
  },
  {
   "cell_type": "code",
   "execution_count": 1,
   "metadata": {},
   "outputs": [
    {
     "name": "stdout",
     "output_type": "stream",
     "text": [
      "\n",
      " Please enter your age 34\n",
      "\n",
      " Your Ticket price is $15\n"
     ]
    }
   ],
   "source": [
    "# Question 3\n",
    "\n",
    "age = int(input(\"\\n Please enter your age \"))\n",
    "for i in range(0,30):\n",
    "    if age < 3:\n",
    "        print(\"\\n Your Ticket is Free\")\n",
    "        break\n",
    "    elif age <= 12 and age >= 3:\n",
    "        print(\"\\n Your Ticket price is 10$\")\n",
    "        break        \n",
    "    elif age > 12:\n",
    "        print(\"\\n Your Ticket price is $15\")\n",
    "        break"
   ]
  },
  {
   "cell_type": "code",
   "execution_count": 3,
   "metadata": {},
   "outputs": [
    {
     "name": "stdout",
     "output_type": "stream",
     "text": [
      "Enter Your Book Name = War And Peace\n",
      "\n",
      "Thanks for your input here is the details of your provided book name\n",
      "----------------------------------------------\n",
      "\n",
      "War And Peace {'Author': 'Leo Tolstoy', 'Publisher': 'The Russian Messenger (serial)', 'Publication date': '1869', 'Total Pages ': '1225'}\n"
     ]
    }
   ],
   "source": [
    "book_details = {\n",
    "    \"War And Peace\": \n",
    "    {\n",
    "        \"Author\":\"Leo Tolstoy\",\n",
    "        \"Publisher\": \"The Russian Messenger (serial)\",\n",
    "        \"Publication date\": \"1869\",\n",
    "        \"Total Pages \":\"1225\"\n",
    "    },\n",
    "    \"MIDDLEMARCH\": \n",
    "    {\n",
    "        \"Author\":\"George Eliot\",\n",
    "        \"Publisher\": \"William Blackwood\",\n",
    "        \"Publication date\": \"1871-1872\",\n",
    "        \"Total Pages \":\"823\"\n",
    "    },\n",
    "    \"Lolita\": \n",
    "    {\n",
    "        \"Author\":\"Vladimir Nabokov\",\n",
    "        \"Publisher\": \"Olympia Press\",\n",
    "        \"Publication date\": \"1955\",\n",
    "        \"Total Pages \":\"336\"\n",
    "        \n",
    "    }\n",
    "}\n",
    "input_book_name = input(\"Enter Your Book Name = \")\n",
    "\n",
    "def find_book(input_book_name):\n",
    "    flag = False \n",
    "    for book_key,book_values in book_details.items():\n",
    "        if book_key == input_book_name:\n",
    "            flag =  True\n",
    "            break\n",
    "    if(flag):            \n",
    "        print(\"\\nThanks for your input here is the details of your provided book name\\n----------------------------------------------\\n\")\n",
    "        print(str(book_key) + \" \" + str(book_values) )\n",
    "    else:\n",
    "        print(\"Thanks for your input but \"+ input_book_name +\" not available on store\")    \n",
    "    \n",
    "            \n",
    "find_book(input_book_name)"
   ]
  },
  {
   "cell_type": "code",
   "execution_count": null,
   "metadata": {},
   "outputs": [],
   "source": []
  },
  {
   "cell_type": "code",
   "execution_count": null,
   "metadata": {},
   "outputs": [],
   "source": []
  },
  {
   "cell_type": "code",
   "execution_count": null,
   "metadata": {},
   "outputs": [],
   "source": []
  },
  {
   "cell_type": "code",
   "execution_count": null,
   "metadata": {},
   "outputs": [],
   "source": []
  },
  {
   "cell_type": "code",
   "execution_count": null,
   "metadata": {},
   "outputs": [],
   "source": []
  }
 ],
 "metadata": {
  "kernelspec": {
   "display_name": "Python 3",
   "language": "python",
   "name": "python3"
  },
  "language_info": {
   "codemirror_mode": {
    "name": "ipython",
    "version": 3
   },
   "file_extension": ".py",
   "mimetype": "text/x-python",
   "name": "python",
   "nbconvert_exporter": "python",
   "pygments_lexer": "ipython3",
   "version": "3.7.4"
  }
 },
 "nbformat": 4,
 "nbformat_minor": 2
}

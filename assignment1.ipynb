{
 "cells": [
  {
   "cell_type": "code",
   "execution_count": 2,
   "metadata": {},
   "outputs": [
    {
     "name": "stdout",
     "output_type": "stream",
     "text": [
      "Twinkel, twinkel, little star,\n",
      "How I wonder what you are !\n",
      "Up above the world as high,\n",
      "Like a daimond in the sky,\n",
      "Twinkel, twinkel, little star,\n",
      "How I wonder what you are !\n"
     ]
    }
   ],
   "source": [
    "# Question 1\n",
    "\n",
    "a = \"Twinkel, twinkel, little star,\"\n",
    "b = \"How I wonder what you are !\"\n",
    "c = \"Up above the world as high,\"\n",
    "d = \"Like a daimond in the sky,\"\n",
    "print(a)\n",
    "print(b)\n",
    "print(c)\n",
    "print(d)\n",
    "print(a)\n",
    "print(b)"
   ]
  },
  {
   "cell_type": "code",
   "execution_count": 2,
   "metadata": {},
   "outputs": [
    {
     "name": "stdout",
     "output_type": "stream",
     "text": [
      "enter 1st number = 5\n",
      "enter 2nd number = 4\n",
      "9\n"
     ]
    }
   ],
   "source": [
    "# Question 6\n",
    "\n",
    "a = int(input(\"enter 1st number = \"))\n",
    "b = int(input(\"enter 2nd number = \"))\n",
    "c = a + b\n",
    "print(c)"
   ]
  },
  {
   "cell_type": "code",
   "execution_count": 4,
   "metadata": {},
   "outputs": [
    {
     "name": "stdout",
     "output_type": "stream",
     "text": [
      "enter First name : Zuraiz\n",
      "enter last name : Butt\n",
      "Butt Zuraiz\n"
     ]
    }
   ],
   "source": [
    "# Question 5\n",
    "\n",
    "a = input(\"enter First name : \")\n",
    "b = input(\"enter last name : \")\n",
    "c = b +\" \"+ a\n",
    "print(c)"
   ]
  },
  {
   "cell_type": "code",
   "execution_count": 13,
   "metadata": {},
   "outputs": [
    {
     "name": "stdout",
     "output_type": "stream",
     "text": [
      "enter the value of radius = 5\n",
      "78.55\n"
     ]
    }
   ],
   "source": [
    "# Question 4\n",
    "\n",
    "r = int(input(\"enter the value of radius = \"))\n",
    "A = 3.142*r*r\n",
    "print(A)"
   ]
  },
  {
   "cell_type": "code",
   "execution_count": null,
   "metadata": {},
   "outputs": [],
   "source": []
  },
  {
   "cell_type": "code",
   "execution_count": null,
   "metadata": {},
   "outputs": [],
   "source": []
  }
 ],
 "metadata": {
  "kernelspec": {
   "display_name": "Python 3",
   "language": "python",
   "name": "python3"
  },
  "language_info": {
   "codemirror_mode": {
    "name": "ipython",
    "version": 3
   },
   "file_extension": ".py",
   "mimetype": "text/x-python",
   "name": "python",
   "nbconvert_exporter": "python",
   "pygments_lexer": "ipython3",
   "version": "3.7.4"
  }
 },
 "nbformat": 4,
 "nbformat_minor": 2
}

{
 "cells": [
  {
   "cell_type": "code",
   "execution_count": 5,
   "metadata": {},
   "outputs": [
    {
     "name": "stdout",
     "output_type": "stream",
     "text": [
      "Enter your first number 6\n",
      "Enter your opreator +\n",
      "Enter your second number 9\n",
      "Addition of  6  &  9  is =  15\n"
     ]
    }
   ],
   "source": [
    "# Question no.1\n",
    "a = int(input(\"Enter your first number \"))\n",
    "opreator = input(\"Enter your opreator \")\n",
    "b = int(input(\"Enter your second number \"))\n",
    "\n",
    "if opreator == '+':\n",
    "    result = a + b\n",
    "    print(\"Addition of \",a,\" & \",b,\" is = \", result)\n",
    "elif opreator == '-':\n",
    "    result = a - b\n",
    "    print(\"Subtraction of \",a,\" & \",b,\" is = \", result)\n",
    "elif opreator == '*':\n",
    "    result = a * b\n",
    "    print(\"Multiplication of \",a,\" & \",b,\" is = \", result)\n",
    "elif opreator == '/':\n",
    "    result = a / b\n",
    "    print(\"Division of \",a,\" & \",b,\" is = \", result)\n",
    "elif opreator == '**':\n",
    "    result = a ** b\n",
    "    print(\"Power of \",a, \" is = \", result)"
   ]
  },
  {
   "cell_type": "code",
   "execution_count": 7,
   "metadata": {},
   "outputs": [
    {
     "name": "stdout",
     "output_type": "stream",
     "text": [
      "235 is a numeric value in list\n",
      "56.9 is a numeric value in list\n"
     ]
    }
   ],
   "source": [
    "# Question no.2\n",
    "arr = ['Arzanish','Zuraiz',235,False,56.9,]\n",
    "for i in arr:\n",
    "    if type(i) == int:\n",
    "        print(i,\"is a numeric value in list\")\n",
    "    elif type(i) == float:\n",
    "        print(i,\"is a numeric value in list\")"
   ]
  },
  {
   "cell_type": "code",
   "execution_count": 9,
   "metadata": {},
   "outputs": [
    {
     "name": "stdout",
     "output_type": "stream",
     "text": [
      "Enter Keyzuraiz\n",
      "Enter Valuegood\n",
      "{'zuraiz': 'good'}\n"
     ]
    }
   ],
   "source": [
    "# Question no.3\n",
    "dic = {}\n",
    "keyinput = input(\"Enter Key\")\n",
    "valueinput = input(\"Enter Value\")\n",
    "dic.update({keyinput:valueinput})\n",
    "\n",
    "print(dic)"
   ]
  },
  {
   "cell_type": "code",
   "execution_count": 11,
   "metadata": {},
   "outputs": [
    {
     "name": "stdout",
     "output_type": "stream",
     "text": [
      "Sum of all numeric items in a dictionary is =  175\n"
     ]
    }
   ],
   "source": [
    "# Question no.4\n",
    "dic = {\n",
    "    'a' : 120,\n",
    "    'b' : 10,\n",
    "    'c' :'zuraiz',\n",
    "    'd' :'butt',\n",
    "    'e' : 45,\n",
    "    'f' : 0,\n",
    "}\n",
    "\n",
    "sum = 0\n",
    "\n",
    "for i in dic.values():\n",
    "    if type(i) == int:\n",
    "        sum +=i\n",
    "\n",
    "print(\"Sum of all numeric items in a dictionary is = \" , sum)"
   ]
  },
  {
   "cell_type": "code",
   "execution_count": 16,
   "metadata": {},
   "outputs": [
    {
     "name": "stdout",
     "output_type": "stream",
     "text": [
      "Repeted item in list are ['zuraiz', 67]\n"
     ]
    }
   ],
   "source": [
    "# Question no.5\n",
    "arr= ['zuraiz',67,3,67,1,6,'zuraiz']\n",
    "list_range = len(arr)\n",
    "repeated = []\n",
    "for i in range (list_range):\n",
    "    a = i + 1\n",
    "    for b in range(a, list_range):\n",
    "        if arr[i] == arr[b] and arr[i] not in repeated:\n",
    "            repeated.append(arr[i])\n",
    "print(\"Repeted item in list are\" , repeated)"
   ]
  },
  {
   "cell_type": "code",
   "execution_count": 19,
   "metadata": {},
   "outputs": [
    {
     "name": "stdout",
     "output_type": "stream",
     "text": [
      "Enter Key Name Check if exist or nota\n",
      "Given Key exist\n"
     ]
    }
   ],
   "source": [
    "# Question no.6\n",
    "dic = {\n",
    "    'a' : 120,\n",
    "    'b' : 10,\n",
    "    'c' :'zuraiz',\n",
    "    'd' :'butt',\n",
    "    'e' : 45,\n",
    "    'f' : 0,\n",
    "}\n",
    "check_key = input(\"Enter Key Name Check if exist or not\")\n",
    "flag = False\n",
    "for i in dic.keys():\n",
    "    if i == check_key:\n",
    "        flag = True\n",
    "        break\n",
    "\n",
    "if flag:\n",
    "    print(\"Given Key exist\")\n",
    "else:\n",
    "    print(\"Given Key dose not exist\")"
   ]
  },
  {
   "cell_type": "code",
   "execution_count": null,
   "metadata": {},
   "outputs": [],
   "source": []
  },
  {
   "cell_type": "code",
   "execution_count": null,
   "metadata": {},
   "outputs": [],
   "source": []
  }
 ],
 "metadata": {
  "kernelspec": {
   "display_name": "Python 3",
   "language": "python",
   "name": "python3"
  },
  "language_info": {
   "codemirror_mode": {
    "name": "ipython",
    "version": 3
   },
   "file_extension": ".py",
   "mimetype": "text/x-python",
   "name": "python",
   "nbconvert_exporter": "python",
   "pygments_lexer": "ipython3",
   "version": "3.7.4"
  }
 },
 "nbformat": 4,
 "nbformat_minor": 2
}

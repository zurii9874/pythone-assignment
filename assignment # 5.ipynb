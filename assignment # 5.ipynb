{
 "cells": [
  {
   "cell_type": "code",
   "execution_count": 2,
   "metadata": {},
   "outputs": [
    {
     "name": "stdout",
     "output_type": "stream",
     "text": [
      "Enter numberto get factorial : 3\n",
      "Your ans is : 6\n"
     ]
    }
   ],
   "source": [
    "# Question no.1\n",
    "number = int(input(\"Enter numberto get factorial : \"))\n",
    "def get_fac(number):\n",
    "    factorial = 1\n",
    "    if number < 0:\n",
    "        print(\"negative num dose not exist in factorial\")\n",
    "    elif number == 0:\n",
    "        print(\"The Factorail number 0 is 1\")\n",
    "    else:\n",
    "        for num in range(1,number+1):\n",
    "            factorial = factorial*num\n",
    "    print(\"Your ans is :\",factorial)\n",
    "            \n",
    "get_fac(number)"
   ]
  },
  {
   "cell_type": "code",
   "execution_count": 7,
   "metadata": {},
   "outputs": [
    {
     "name": "stdout",
     "output_type": "stream",
     "text": [
      "Enter any word with uper and lower case ZuraIZ\n",
      "The Total Lenght of Input is 6\n",
      "Uper Case Alphabets : 3 \n",
      "Lower Case Alphabets : 3\n"
     ]
    }
   ],
   "source": [
    "#Question no.2\n",
    "str_value = input(\"Enter any word with uper and lower case \")\n",
    "def count_lower_uper(str_value):\n",
    "            total_lenght = len(str_value)\n",
    "            print(\"The Total Lenght of Input is {}\".format(total_lenght))\n",
    "            upper =0\n",
    "            lower = 0\n",
    "            for value in str_value:\n",
    "                if value.isupper():\n",
    "                    upper +=1\n",
    "                if value.islower():\n",
    "                    lower +=1\n",
    "            print(\"Uper Case Alphabets : {} \\nLower Case Alphabets : {}\".format(str(upper),str(lower)))\n",
    "            \n",
    "count_lower_uper(str_value)"
   ]
  },
  {
   "cell_type": "code",
   "execution_count": 3,
   "metadata": {},
   "outputs": [
    {
     "name": "stdout",
     "output_type": "stream",
     "text": [
      "How many number you want to add in list eg: 1,2,3 : 3\n",
      "Please enter number 2\n",
      "Please enter number 4\n",
      "Please enter number 6\n",
      "This is existing list [2, 4, 6]\n",
      "even number is2\n",
      "even number is4\n",
      "even number is6\n"
     ]
    }
   ],
   "source": [
    "#Question n0.3\n",
    "listas = []\n",
    "number = int(input(\"How many number you want to add in list eg: 1,2,3 : \")) \n",
    "\n",
    "for i in range(0, number): \n",
    "    ele = int(input(\"Please enter number \")) \n",
    "    listas.append(ele)  \n",
    " \n",
    "    33\n",
    "def even(lista):\n",
    "    \n",
    "    for inp in lista:\n",
    "        check = inp %2\n",
    "        if check == 0:\n",
    "            \n",
    "            print(\"even number is\" + str(inp))\n",
    "        \n",
    "print(\"This is existing list \"+str(listas))\n",
    "even(listas)"
   ]
  },
  {
   "cell_type": "code",
   "execution_count": null,
   "metadata": {},
   "outputs": [],
   "source": []
  },
  {
   "cell_type": "markdown",
   "metadata": {},
   "source": [
    " "
   ]
  }
 ],
 "metadata": {
  "kernelspec": {
   "display_name": "Python 3",
   "language": "python",
   "name": "python3"
  },
  "language_info": {
   "codemirror_mode": {
    "name": "ipython",
    "version": 3
   },
   "file_extension": ".py",
   "mimetype": "text/x-python",
   "name": "python",
   "nbconvert_exporter": "python",
   "pygments_lexer": "ipython3",
   "version": "3.7.4"
  }
 },
 "nbformat": 4,
 "nbformat_minor": 2
}

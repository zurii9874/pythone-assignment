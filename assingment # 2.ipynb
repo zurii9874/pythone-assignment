{
 "cells": [
  {
   "cell_type": "code",
   "execution_count": 1,
   "metadata": {},
   "outputs": [
    {
     "name": "stdout",
     "output_type": "stream",
     "text": [
      "1\n",
      "1\n",
      "2\n",
      "3\n"
     ]
    }
   ],
   "source": [
    "# Question no.6\n",
    "arr=[1,1,2,3,5,8,13,21,34,55,89]\n",
    "\n",
    "for i in arr:\n",
    "    if i < 5:\n",
    "        print(i);"
   ]
  },
  {
   "cell_type": "code",
   "execution_count": 3,
   "metadata": {},
   "outputs": [
    {
     "name": "stdout",
     "output_type": "stream",
     "text": [
      "445\n"
     ]
    }
   ],
   "source": [
    "# Question no.5\n",
    "arr = [1,23,43,445,10,23,55,102,9,57]\n",
    "print(max(arr))"
   ]
  },
  {
   "cell_type": "code",
   "execution_count": 8,
   "metadata": {},
   "outputs": [
    {
     "name": "stdout",
     "output_type": "stream",
     "text": [
      "Enter Number11\n",
      "Entered Number is Odd\n"
     ]
    }
   ],
   "source": [
    "# Question no.2\n",
    "a = int(input(\"Enter Number\"))\n",
    "\n",
    "if a % 2 == 0:\n",
    "    print(\"Entered Number is Even\")\n",
    "else:\n",
    "    print(\"Entered Number is Odd\")"
   ]
  },
  {
   "cell_type": "code",
   "execution_count": 7,
   "metadata": {},
   "outputs": [
    {
     "name": "stdout",
     "output_type": "stream",
     "text": [
      "10\n"
     ]
    }
   ],
   "source": [
    "# Question no.3\n",
    "a=[2,4,8,6,14,2,112,56,87,3]\n",
    "print(len(a))"
   ]
  },
  {
   "cell_type": "code",
   "execution_count": 10,
   "metadata": {},
   "outputs": [
    {
     "name": "stdout",
     "output_type": "stream",
     "text": [
      "enter physics marks : 33\n",
      "enter urdu marks : 28\n",
      "enter english marks : 40\n",
      "enter chemistry marks : 20\n",
      "enter maths marks : 15\n",
      "Total marks =  136\n",
      "Fail\n"
     ]
    }
   ],
   "source": [
    "# Question no.1\n",
    "a = int(input(\"enter physics marks : \"))\n",
    "b = int(input(\"enter urdu marks : \"))\n",
    "c = int(input(\"enter english marks : \"))\n",
    "d = int(input(\"enter chemistry marks : \"))\n",
    "e = int(input(\"enter maths marks : \"))\n",
    "sum = a+b+c+d+e;\n",
    "print(\"Total marks = \",sum)\n",
    "per = sum * 100 / 500;\n",
    "\n",
    "if per >= 80:\n",
    "   print(\"Grade is A+\")\n",
    "elif per >= 70:\n",
    "   print(\"Grade is A\")\n",
    "elif per >= 60:\n",
    "   print(\"Grade is B\")\n",
    "elif per >= 50:\n",
    "   print(\"Grade is C\")\n",
    "elif per >= 40:\n",
    "   print(\"Grade is D\")\n",
    "else:\n",
    "    print(\"Fail\")"
   ]
  },
  {
   "cell_type": "code",
   "execution_count": 4,
   "metadata": {},
   "outputs": [
    {
     "name": "stdout",
     "output_type": "stream",
     "text": [
      "140\n"
     ]
    }
   ],
   "source": [
    "# Questin no.4\n",
    "arr=[2,9,8,17,3,101]\n",
    "print(sum(arr))"
   ]
  },
  {
   "cell_type": "code",
   "execution_count": null,
   "metadata": {},
   "outputs": [],
   "source": []
  },
  {
   "cell_type": "code",
   "execution_count": null,
   "metadata": {},
   "outputs": [],
   "source": []
  }
 ],
 "metadata": {
  "kernelspec": {
   "display_name": "Python 3",
   "language": "python",
   "name": "python3"
  },
  "language_info": {
   "codemirror_mode": {
    "name": "ipython",
    "version": 3
   },
   "file_extension": ".py",
   "mimetype": "text/x-python",
   "name": "python",
   "nbconvert_exporter": "python",
   "pygments_lexer": "ipython3",
   "version": "3.7.4"
  }
 },
 "nbformat": 4,
 "nbformat_minor": 2
}
